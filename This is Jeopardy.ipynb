{
 "cells": [
  {
   "cell_type": "markdown",
   "metadata": {},
   "source": [
    "# This is Jeopardy!"
   ]
  },
  {
   "cell_type": "markdown",
   "metadata": {},
   "source": [
    "#### Overview"
   ]
  },
  {
   "cell_type": "markdown",
   "metadata": {},
   "source": [
    "This project is slightly different than others you have encountered thus far. Instead of a step-by-step tutorial, this project contains a series of open-ended requirements which describe the project you'll be building. There are many possible ways to correctly fulfill all of these requirements, and you should expect to use the internet, Codecademy, and/or other resources when you encounter a problem that you cannot easily solve."
   ]
  },
  {
   "cell_type": "markdown",
   "metadata": {},
   "source": [
    "#### Project Goals"
   ]
  },
  {
   "cell_type": "markdown",
   "metadata": {},
   "source": [
    "You will work to write several functions that investigate a dataset of _Jeopardy!_ questions and answers. Filter the dataset for topics that you're interested in, compute the average difficulty of those questions, and train to become the next Jeopardy champion!"
   ]
  },
  {
   "cell_type": "markdown",
   "metadata": {},
   "source": [
    "## Prerequisites"
   ]
  },
  {
   "cell_type": "markdown",
   "metadata": {},
   "source": [
    "In order to complete this project, you should have completed the Pandas lessons in the <a href=\"https://www.codecademy.com/learn/paths/analyze-data-with-python\">Analyze Data with Python Skill Path</a>. You can also find those lessons in the <a href=\"https://www.codecademy.com/learn/data-processing-pandas\">Data Analysis with Pandas course</a> or the <a href=\"https://www.codecademy.com/learn/paths/data-science/\">Data Scientist Career Path</a>.\n",
    "\n",
    "Finally, the <a href=\"https://www.codecademy.com/learn/practical-data-cleaning\">Practical Data Cleaning</a> course may also be helpful."
   ]
  },
  {
   "cell_type": "markdown",
   "metadata": {},
   "source": [
    "## Project Requirements"
   ]
  },
  {
   "cell_type": "markdown",
   "metadata": {},
   "source": [
    "1. We've provided a csv file containing data about the game show _Jeopardy!_ in a file named `jeopardy.csv`. Load the data into a DataFrame and investigate its contents. Try to print out specific columns.\n",
    "\n",
    "   Note that in order to make this project as \"real-world\" as possible, we haven't modified the data at all - we're giving it to you exactly how we found it. As a result, this data isn't as \"clean\" as the datasets you normally find on Codecademy. More specifically, there's something odd about the column names. After you figure out the problem with the column names, you may want to rename them to make your life easier for the rest of the project.\n",
    "   \n",
    "   In order to display the full contents of a column, we've added this line of code for you:\n",
    "   \n",
    "   ```py\n",
    "   pd.set_option('display.max_colwidth', None)\n",
    "   ```"
   ]
  },
  {
   "cell_type": "code",
   "execution_count": 1,
   "metadata": {},
   "outputs": [],
   "source": [
    "import pandas as pd\n",
    "pd.set_option('display.max_colwidth', None)"
   ]
  },
  {
   "cell_type": "markdown",
   "metadata": {},
   "source": [
    "2. Write a function that filters the dataset for questions that contains all of the words in a list of words. For example, when the list `[\"King\", \"England\"]` was passed to our function, the function returned a DataFrame of 49 rows. Every row had the strings `\"King\"` and `\"England\"` somewhere in its `\" Question\"`.\n",
    "\n",
    "   Test your function by printing out the column containing the question of each row of the dataset."
   ]
  },
  {
   "cell_type": "code",
   "execution_count": 4,
   "metadata": {},
   "outputs": [
    {
     "name": "stdout",
     "output_type": "stream",
     "text": [
      "0                               For the last 8 years of his life, Galileo was under house arrest for espousing this man's theory\n",
      "1                    No. 2: 1912 Olympian; football star at Carlisle Indian School; 6 MLB seasons with the Reds, Giants & Braves\n",
      "2                                       The city of Yuma in this state has a record average of 4,055 hours of sunshine each year\n",
      "3                                           In 1963, live on \"The Art Linkletter Show\", this company served its billionth burger\n",
      "4                       Signer of the Dec. of Indep., framer of the Constitution of Mass., second President of the United States\n",
      "                                                                   ...                                                          \n",
      "216925                                                This Puccini opera turns on the solution to 3 riddles posed by the heroine\n",
      "216926                   In North America this term is properly applied to only 4 species that are crested, including the tufted\n",
      "216927                 In Penny Lane, where this \"Hellraiser\" grew up, the barber shaves another customer--then flays him alive!\n",
      "216928    From Ft. Sill, Okla. he made the plea, Arizona is my land, my home, my father's land, to which I now ask to... return\"\n",
      "216929                   A silent movie title includes the last name of this 18th c. statesman & favorite of Catherine the Great\n",
      "Name: Question, Length: 216930, dtype: object\n"
     ]
    }
   ],
   "source": [
    "full_jeopardy = pd.read_csv('jeopardy.csv')\n",
    "full_jeopardy.columns = full_jeopardy.columns.str.strip()\n",
    "#print(full_jeopardy.columns)\n",
    "print(full_jeopardy['Question'])"
   ]
  },
  {
   "cell_type": "markdown",
   "metadata": {},
   "source": [
    "3. Test your original function with a few different sets of words to try to find some ways your function breaks. Edit your function so it is more robust.\n",
    "\n",
    "   For example, think about capitalization. We probably want to find questions that contain the word `\"King\"` or `\"king\"`.\n",
    "   \n",
    "   You may also want to check to make sure you don't find rows that contain substrings of your given words. For example, our function found a question that didn't contain the word `\"king\"`, however it did contain the word `\"viking\"` &mdash; it found the `\"king\"` inside `\"viking\"`. Note that this also comes with some drawbacks &mdash; you would no longer find questions that contained words like `\"England's\"`."
   ]
  },
  {
   "cell_type": "code",
   "execution_count": 5,
   "metadata": {},
   "outputs": [
    {
     "name": "stdout",
     "output_type": "stream",
     "text": [
      "        Show Number    Air Date             Round                    Category  \\\n",
      "485            5243  2007-05-30         Jeopardy!    CALL OUT THE VOICE SQUAD   \n",
      "3216           5622  2009-02-03  Double Jeopardy!             WHO'S ON FIRST?   \n",
      "11944          3139  1998-04-02  Double Jeopardy!  THE SIMPSONS' GUEST VOICES   \n",
      "15498          3272  1998-11-24  Double Jeopardy!                   TV COMEDY   \n",
      "16983          5768  2009-10-14  Double Jeopardy!                     TV TIME   \n",
      "27212          5793  2009-11-18         Jeopardy!               GET SOME HELP   \n",
      "31667          4740  2005-03-25         Jeopardy!                TV SPIN-OFFS   \n",
      "33435          3388  1999-05-05  Double Jeopardy!                  CANDY LAND   \n",
      "33799          3984  2001-12-20  Double Jeopardy!          TV TALK SHOW HOSTS   \n",
      "51203          5119  2006-12-07  Double Jeopardy!               & THE FURIOUS   \n",
      "55195          3327  1999-02-09         Jeopardy!                THE SIMPSONS   \n",
      "64145          4185  2002-11-08         Jeopardy!            PARDON MY POLISH   \n",
      "67129          4998  2006-05-10  Double Jeopardy!     THE NEW YORK TIMES ARTS   \n",
      "71580          3506  1999-11-29  Double Jeopardy!                  4 OUT OF 5   \n",
      "72922          3148  1998-04-15         Jeopardy!        TV SHOWS ON TV SHOWS   \n",
      "78467          3169  1998-05-14         Jeopardy!               TV CHARACTERS   \n",
      "79831          5735  2009-07-10  Double Jeopardy!             SUNDAY NIGHT TV   \n",
      "91740          4514  2004-04-01  Double Jeopardy!          OREGON TRANSPLANTS   \n",
      "95833          3450  1999-09-10         Jeopardy!              \"E\" FOR EFFORT   \n",
      "97150          4859  2005-10-27         Jeopardy!                    MOB HITS   \n",
      "98317          4799  2005-06-16         Jeopardy!                SOCIAL TYPES   \n",
      "103064         4901  2005-12-26         Jeopardy!           DREAD MAN WALKING   \n",
      "113024         5655  2009-03-20  Double Jeopardy!                   THE STRIP   \n",
      "114115         3605  2000-04-14         Jeopardy!                PLAYING DUMB   \n",
      "115440         3879  2001-06-14         Jeopardy!               BO, MOE OR PO   \n",
      "136913         2940  1997-05-16         Jeopardy!                THE SIMPSONS   \n",
      "136925         2940  1997-05-16         Jeopardy!                THE SIMPSONS   \n",
      "136931         2940  1997-05-16         Jeopardy!                THE SIMPSONS   \n",
      "149704         4596  2004-09-06         Jeopardy!                     \"BOARD\"   \n",
      "155745         5853  2010-02-10  Double Jeopardy!                  BAND NAMES   \n",
      "182451         4722  2005-03-01         Jeopardy!        HARLEM GLOBETROTTIN'   \n",
      "194614         3629  2000-05-18         Jeopardy!                  TELEVISION   \n",
      "194958         4758  2005-04-20         Jeopardy!          LIKE SHOW BUSINESS   \n",
      "197621         5742  2009-07-21         Jeopardy!           CONTRACT KILLINGS   \n",
      "201614         5653  2009-03-18  Double Jeopardy!                     GEEK TV   \n",
      "206051         5634  2009-02-19         Jeopardy!          KIDS DON'T REALIZE   \n",
      "207065         3592  2000-03-28  Double Jeopardy!                  QUOTATIONS   \n",
      "208511         2993  1997-09-10  Double Jeopardy!               FOREIGN FILMS   \n",
      "212304         4142  2002-09-10  Double Jeopardy!          PLACES IN THE NEWS   \n",
      "\n",
      "         Value  \\\n",
      "485       $400   \n",
      "3216     $2000   \n",
      "11944   $4,000   \n",
      "15498     $600   \n",
      "16983     $400   \n",
      "27212     $200   \n",
      "31667    $1000   \n",
      "33435     $400   \n",
      "33799     $800   \n",
      "51203     $400   \n",
      "55195     $500   \n",
      "64145     $200   \n",
      "67129     $800   \n",
      "71580     $400   \n",
      "72922     $200   \n",
      "78467     $200   \n",
      "79831    $1600   \n",
      "91740     $800   \n",
      "95833     $200   \n",
      "97150     $400   \n",
      "98317     $600   \n",
      "103064    $600   \n",
      "113024   $1600   \n",
      "114115    $100   \n",
      "115440    $200   \n",
      "136913    $100   \n",
      "136925    $300   \n",
      "136931    $400   \n",
      "149704    $400   \n",
      "155745   $2000   \n",
      "182451    $400   \n",
      "194614    $500   \n",
      "194958    $800   \n",
      "197621    $600   \n",
      "201614   $2000   \n",
      "206051    $800   \n",
      "207065    $200   \n",
      "208511   $1000   \n",
      "212304    $800   \n",
      "\n",
      "                                                                                                                                                                                                                               Question  \\\n",
      "485     (<a href=\"http://www.j-archive.com/media/2007-05-30_J_27.jpg\" target=\"_blank\">Hi, I'm Harry Shearer.</a>) Among my many \"Simpsons\" voices are the subservient Smithers & this man who lives next door to Homer--Howdy, neighbor   \n",
      "3216                                                                                                                   For the 2000-2001 season, \"The Simpsons\" led into this show that led into \"The X-Files\"--you might say it was...   \n",
      "11944                                                                                                                                                 Bart appeared on the late night talk show of this man, a former \"Simpsons\" writer   \n",
      "15498                                                                                                                                    For the Flintstones, it's Barney Rubble; for the Simpsons, it's the sanctimonious Ned Flanders   \n",
      "16983                                                                                                                                  In one version of the opening credits of \"The Simpsons\", this character is shown to cost $243.26   \n",
      "27212                                                                                                                                                     Waylon Smithers tends to the every need of this zillionaire on \"The Simpsons\"   \n",
      "31667                                                                                                                                                                                                                    \"The Simpsons\"   \n",
      "33435                                                                                                                  Don't let it slip, but this \"Crispy Crunchety Peanut Butter Candy Bar\" from Nestle is a favorite of the Simpsons   \n",
      "33799                                                                                                                             He was a writer & supervising producer for \"The Simpsons\" before hosting his own late-night talk show   \n",
      "51203                                                                                                                                                 On \"The Simpsons\", this nuclear plant owner has a pet monkey named Furious George   \n",
      "55195                                                                                                                                      \"Okely-dokely-do\" & \"Oh, indeedily doodily\" are phrases often said by this Simpsons neighbor   \n",
      "64145                                                                                                                                                                  On \"The Simpsons\" in Warsaw Bart is a brat, one of these to Lisa   \n",
      "67129                                                                                                               The Times called this Fox sitcom, a critical darling, \"an alliance between 'The Royal Tenenbaums' & 'The Simpsons'\"   \n",
      "71580                                                                                                                                                          4 out of 5 people living at 742 Evergreen Terrace on TV's \"The Simpsons\"   \n",
      "72922                                                                                                                                         This \"Simpsons\" TV clown has worked with Sideshow Bob, Sideshow Mel & Sideshow Luke Perry   \n",
      "78467                                                                                                                                                                                         She's the middle of the 3 \"Simpsons\" kids   \n",
      "79831                                                                                                                     In 2000, at 8:00 you could have watched \"The Simpsons\", \"Steve Harvey\" or this heavenly show with Roma Downey   \n",
      "91740                                                                                                                                                                                    Born in Portland, 1954; created \"The Simpsons\"   \n",
      "95833                                                                                                                                  On \"The Simpsons\", Mr. Burns usually uses this word when he finds something superb or first-rate   \n",
      "97150                                                                                                                            Rotund name of \"The Simpsons\" head mobster who hangs out at \"The Legitimate Businessman's Social Club\"   \n",
      "98317                                                                          The \"Simpsons\" character seen <a href=\"http://www.j-archive.com/media/2005-06-16_J_21.jpg\" target=\"_blank\">here</a> has no name; he's simply called this   \n",
      "103064                                                                                                                                      On \"The Simpsons\" this ex-Krusty the Clown sidekick tries to kill Bart on several occasions   \n",
      "113024                                                                                                                                                                                           ...by Matt Groening of \"Simpsons\" fame   \n",
      "114115                                                                                                                                     On \"The Simpsons\", when Homer went to Cheers, Norm called this bartender a \"brain-dead hick\"   \n",
      "115440                                                                                                          \"Kid Gorgeous\", \"Kid Presentable\", \"Kid Gruesome\" & finally \"Kid\" this were boxing nicknames of this \"Simpsons\" barkeep   \n",
      "136913                                                                                                                                                            Like the governor of Illinois, the Simpsons live in a city named this   \n",
      "136925                                                                                                                             Famous Simpsons expressions include Bart's \"Don't Have A Cow\" & this Homeric syllable of frustration   \n",
      "136931                                                                                                                                                     Pronounced correctly, the name of this Simpsons creator rhymes with \"caning\"   \n",
      "149704                                                                                                                                                          It's where Bart Simpson is often found in the opening of \"The Simpsons\"   \n",
      "155745                                                                                                                                            This group's name came from the younger sidekick of Radioactive Man on \"The Simpsons\"   \n",
      "182451                                                                                                                                On \"The Simpsons\" Krusty bets huge on this frequent Globetrotter opponent, claiming they were due   \n",
      "194614                                                                                                                                On \"The Simpsons\", the chief executive of Springfield is this corrupt mayor nicknamed Diamond Joe   \n",
      "194958                                                                                                                                                    Imitation gruel & \"Non-Toxic Kologne\" are endorsed by this \"Simpsons\" \"k\"lown   \n",
      "197621                                                                                                             The actress voicing Maude, wife of this \"Simpsons\" guy, asked for weekly flights from L.A. to home--Bye-diddily-eye!   \n",
      "201614                                                                                                                               On a \"Worst Geeks Ever\" list would be this rotund graphic novel store proprietor on \"The Simpsons\"   \n",
      "206051                                                                                                                         Kids will someday know this \"Simpsons\" mayor speaks like an ancient political family called the Kennedys   \n",
      "207065                                                                                                                                                                     \"Mmm...chocolate\" is often said by this \"Simpsons\" character   \n",
      "208511                                                                                                                              This hero of 3 Satyajit Ray films shares his name with the Kwik-E-Mart proprietor on \"The Simpsons\"   \n",
      "212304                                                                                                                        People in this South American city were upset by a \"Simpsons\" episode showing street kids & monkeys there   \n",
      "\n",
      "                                           Answer  \n",
      "485                                  Ned Flanders  \n",
      "3216                        Malcolm In The Middle  \n",
      "11944                               Conan O'Brien  \n",
      "15498                                   Neighbors  \n",
      "16983                              Maggie Simpson  \n",
      "27212                            Montgomery Burns  \n",
      "31667                      The Tracey Ullman Show  \n",
      "33435                                Butterfinger  \n",
      "33799                               Conan O'Brien  \n",
      "51203                            Montgomery Burns  \n",
      "55195                                Ned Flanders  \n",
      "64145                                     brother  \n",
      "67129                        Arrested Development  \n",
      "71580   Bart, Homer, Lisa, Maggie & Marge Simpson  \n",
      "72922                            Krusty the Klown  \n",
      "78467                                        Lisa  \n",
      "79831                         Touched by an Angel  \n",
      "91740                               Matt Groening  \n",
      "95833                                \"Excellent!\"  \n",
      "97150                                    Fat Tony  \n",
      "98317                              Comic Book Guy  \n",
      "103064                               Sideshow Bob  \n",
      "113024                               Life in Hell  \n",
      "114115                                      Woody  \n",
      "115440                              Moe (Szyslak)  \n",
      "136913                                Springfield  \n",
      "136925                                    \"D'Oh!\"  \n",
      "136931                              Matt Groening  \n",
      "149704         his skateboard (or the blackboard)  \n",
      "155745                               Fall Out Boy  \n",
      "182451                  the (Washington) Generals  \n",
      "194614                               Mayor Quimby  \n",
      "194958                                     Krusty  \n",
      "197621                               Ned Flanders  \n",
      "201614                             Comic Book Guy  \n",
      "206051                               Mayor Quimby  \n",
      "207065                                      Homer  \n",
      "208511                                        Apu  \n",
      "212304                             Rio de Janeiro  \n"
     ]
    }
   ],
   "source": [
    "simpsons = full_jeopardy[full_jeopardy['Question'].str.contains('Simpsons')]\n",
    "print(simpsons)"
   ]
  },
  {
   "cell_type": "markdown",
   "metadata": {},
   "source": [
    "4. We may want to eventually compute aggregate statistics, like `.mean()` on the `\" Value\"` column. But right now, the values in that column are strings. Convert the`\" Value\"` column to floats. If you'd like to, you can create a new column with float values.\n",
    "\n",
    "   While most of the values in the `\" Value\"` column represent a dollar amount as a string, note that some do not &mdash; these values will need to be handled differently!\n",
    "\n",
    "   Now that you can filter the dataset of question, use your new column that contains the float values of each question to find the \"difficulty\" of certain topics. For example, what is the average value of questions that contain the word `\"King\"`?\n",
    "   \n",
    "   Make sure to use the dataset that contains the float values as the dataset you use in your filtering function."
   ]
  },
  {
   "cell_type": "code",
   "execution_count": 6,
   "metadata": {},
   "outputs": [],
   "source": [
    "full_jeopardy['Value'] = full_jeopardy['Value'].replace('[\\$,]', '', regex=True).replace(['None', 'no value'], 0).astype(float)"
   ]
  },
  {
   "cell_type": "markdown",
   "metadata": {},
   "source": [
    "5. Write a function that returns the count of unique answers to all of the questions in a dataset. For example, after filtering the entire dataset to only questions containing the word `\"King\"`, we could then find all of the unique answers to those questions. The answer \"Henry VIII\" appeared 55 times and was the most common answer."
   ]
  },
  {
   "cell_type": "code",
   "execution_count": 7,
   "metadata": {},
   "outputs": [
    {
     "name": "stdout",
     "output_type": "stream",
     "text": [
      "Total for keyword 'Simpsons': 28900.0\n",
      "Average for keyword 'Simpsons': 741.025641025641\n"
     ]
    }
   ],
   "source": [
    "# Define the keyword to search for\n",
    "keyword = 'Simpsons'\n",
    "\n",
    "# Filter rows where 'questions' contains the keyword (case-insensitive)\n",
    "filtered = full_jeopardy[full_jeopardy['Question'].str.contains(keyword, case=False, na=False)]\n",
    "\n",
    "# Calculate sum and average\n",
    "total = filtered['Value'].sum()\n",
    "average = filtered['Value'].mean()\n",
    "\n",
    "print(f\"Total for keyword '{keyword}':\", total)\n",
    "print(f\"Average for keyword '{keyword}':\", average)"
   ]
  },
  {
   "cell_type": "markdown",
   "metadata": {},
   "source": [
    "6. Explore from here! This is an incredibly rich dataset, and there are so many interesting things to discover. There are a few columns that we haven't even started looking at yet. Here are some ideas on ways to continue working with this data:\n",
    "\n",
    " * Investigate the ways in which questions change over time by filtering by the date. How many questions from the 90s use the word `\"Computer\"` compared to questions from the 2000s?\n",
    " * Is there a connection between the round and the category? Are you more likely to find certain categories, like `\"Literature\"` in Single Jeopardy or Double Jeopardy?\n",
    " * Build a system to quiz yourself. Grab random questions, and use the <a href=\"https://docs.python.org/3/library/functions.html#input\">input</a> function to get a response from the user. Check to see if that response was right or wrong."
   ]
  },
  {
   "cell_type": "code",
   "execution_count": 8,
   "metadata": {},
   "outputs": [
    {
     "name": "stdout",
     "output_type": "stream",
     "text": [
      "   Decade  Frequency\n",
      "0    1980          6\n",
      "1    1990         98\n",
      "2    2000        268\n",
      "3    2010         59\n"
     ]
    },
    {
     "name": "stderr",
     "output_type": "stream",
     "text": [
      "/tmp/ipykernel_1673/2693439270.py:11: SettingWithCopyWarning: \n",
      "A value is trying to be set on a copy of a slice from a DataFrame.\n",
      "Try using .loc[row_indexer,col_indexer] = value instead\n",
      "\n",
      "See the caveats in the documentation: https://pandas.pydata.org/pandas-docs/stable/user_guide/indexing.html#returning-a-view-versus-a-copy\n",
      "  filtered['Decade'] = (filtered['Air Date'].dt.year // 10) * 10\n"
     ]
    }
   ],
   "source": [
    "# Ensure 'Air Date' is in datetime format\n",
    "full_jeopardy['Air Date'] = pd.to_datetime(full_jeopardy['Air Date'])\n",
    "\n",
    "# Define your keyword\n",
    "keyword = 'computer'\n",
    "\n",
    "# Filter rows where 'question' contains the keyword (case-insensitive)\n",
    "filtered = full_jeopardy[full_jeopardy['Question'].str.contains(keyword, case=False, na=False)]\n",
    "\n",
    "# Extract decade from 'Air Date'\n",
    "filtered['Decade'] = (filtered['Air Date'].dt.year // 10) * 10\n",
    "\n",
    "# Group by decade and count the number of rows (frequency)\n",
    "result = filtered.groupby('Decade').size().reset_index(name='Frequency')\n",
    "\n",
    "print(result)"
   ]
  },
  {
   "cell_type": "markdown",
   "metadata": {},
   "source": [
    "## Solution"
   ]
  },
  {
   "cell_type": "markdown",
   "metadata": {},
   "source": [
    "7. Compare your program to our <a href=\"https://content.codecademy.com/PRO/independent-practice-projects/jeopardy/jeopardy_solution.zip\">sample solution code</a> - remember, that your program might look different from ours (and probably will) and that's okay!"
   ]
  },
  {
   "cell_type": "markdown",
   "metadata": {},
   "source": [
    "8. Great work! Visit <a href=\"https://discuss.codecademy.com/t/this-is-jeopardy-challenge-project-python-pandas/462365\">our forums</a> to compare your project to our sample solution code. You can also learn how to host your own solution on GitHub so you can share it with other learners! Your solution might look different from ours, and that's okay! There are multiple ways to solve these projects, and you'll learn more by seeing others' code."
   ]
  },
  {
   "cell_type": "code",
   "execution_count": null,
   "metadata": {},
   "outputs": [],
   "source": []
  }
 ],
 "metadata": {
  "kernelspec": {
   "display_name": "anaconda-2024.02-py310",
   "language": "python",
   "name": "conda-env-anaconda-2024.02-py310-py"
  },
  "language_info": {
   "codemirror_mode": {
    "name": "ipython",
    "version": 3
   },
   "file_extension": ".py",
   "mimetype": "text/x-python",
   "name": "python",
   "nbconvert_exporter": "python",
   "pygments_lexer": "ipython3",
   "version": "3.10.14"
  }
 },
 "nbformat": 4,
 "nbformat_minor": 4
}
